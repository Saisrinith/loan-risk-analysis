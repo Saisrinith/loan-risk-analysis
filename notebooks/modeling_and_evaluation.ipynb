{
 "cells": [
  {
   "cell_type": "code",
   "execution_count": 2,
   "id": "929f8ecc-b29a-4176-8da1-25944e71a368",
   "metadata": {},
   "outputs": [
    {
     "name": "stdout",
     "output_type": "stream",
     "text": [
      "Data loaded successfully with selected features.\n",
      "   loan_amnt  int_rate grade  emp_length home_ownership  annual_inc    dti  \\\n",
      "0     3600.0     13.99     C        10.0       MORTGAGE     55000.0   5.91   \n",
      "1    24700.0     11.99     C        10.0       MORTGAGE     65000.0  16.06   \n",
      "2    20000.0     10.78     B        10.0       MORTGAGE     63000.0  10.78   \n",
      "3    35000.0     14.85     C        10.0       MORTGAGE    110000.0  17.06   \n",
      "4    10400.0     22.45     F         3.0       MORTGAGE    104433.0  25.37   \n",
      "\n",
      "   is_bad_loan  \n",
      "0            0  \n",
      "1            0  \n",
      "2            0  \n",
      "3            0  \n",
      "4            0  \n"
     ]
    }
   ],
   "source": [
    "import pandas as pd\n",
    "from sklearn.model_selection import train_test_split\n",
    "from sklearn.preprocessing import StandardScaler\n",
    "from sklearn.linear_model import LogisticRegression\n",
    "from sklearn.metrics import classification_report, confusion_matrix\n",
    "import seaborn as sns\n",
    "import matplotlib.pyplot as plt\n",
    "\n",
    "# --- Feature Selection ---\n",
    "# First, define the exact features you need for the model.\n",
    "features = [\n",
    "    'loan_amnt',\n",
    "    'int_rate',\n",
    "    'grade',\n",
    "    'emp_length',\n",
    "    'home_ownership',\n",
    "    'annual_inc',\n",
    "    'dti', # Debt-to-Income Ratio\n",
    "    'is_bad_loan'\n",
    "]\n",
    "\n",
    "# --- Memory-Efficient Data Loading ---\n",
    "# Use the 'usecols' parameter to load ONLY the columns from the 'features' list.\n",
    "# This prevents the 'out of memory' error.\n",
    "model_df = pd.read_csv(\n",
    "    '../data/processed_data.csv', \n",
    "    usecols=features\n",
    ")\n",
    "\n",
    "# Drop any rows in our selected data that still have null values.\n",
    "model_df.dropna(inplace=True)\n",
    "\n",
    "# Now you can proceed with your analysis on the much smaller 'model_df'\n",
    "print(\"Data loaded successfully with selected features.\")\n",
    "print(model_df.head())"
   ]
  },
  {
   "cell_type": "code",
   "execution_count": 3,
   "id": "ab43d690-5099-4bfb-8716-c8f3f468e8b3",
   "metadata": {},
   "outputs": [],
   "source": [
    "# Convert categorical variables into dummy/indicator variables\n",
    "categorical_features = ['grade', 'home_ownership']\n",
    "model_df_encoded = pd.get_dummies(model_df, columns=categorical_features, drop_first=True)\n",
    "\n",
    "# Separate our features (X) from our target (y)\n",
    "X = model_df_encoded.drop('is_bad_loan', axis=1)\n",
    "y = model_df_encoded['is_bad_loan']\n",
    "\n",
    "# Split the data into training and testing sets (80% train, 20% test)\n",
    "X_train, X_test, y_train, y_test = train_test_split(X, y, test_size=0.2, random_state=42, stratify=y)\n",
    "\n",
    "# Scale the numerical features\n",
    "# This is important for models like Logistic Regression\n",
    "scaler = StandardScaler()\n",
    "X_train_scaled = scaler.fit_transform(X_train)\n",
    "X_test_scaled = scaler.transform(X_test)"
   ]
  },
  {
   "cell_type": "code",
   "execution_count": 4,
   "id": "4aef1e8d-2fc4-4b0d-99e4-538d465e2721",
   "metadata": {},
   "outputs": [
    {
     "name": "stdout",
     "output_type": "stream",
     "text": [
      "Model training complete.\n"
     ]
    }
   ],
   "source": [
    "# Initialize and train the model\n",
    "model = LogisticRegression(random_state=42, max_iter=1000)\n",
    "model.fit(X_train_scaled, y_train)\n",
    "\n",
    "print(\"Model training complete.\")"
   ]
  },
  {
   "cell_type": "code",
   "execution_count": 5,
   "id": "d1295d0c-e02a-40e6-8dca-9fe8e4ed78b5",
   "metadata": {},
   "outputs": [
    {
     "data": {
      "image/png": "[encoded data removed]",
      "text/plain": [
       "<Figure size 800x600 with 2 Axes>"
      ]
     },
     "metadata": {},
     "output_type": "display_data"
    }
   ],
   "source": [
    "# Make predictions on the test set\n",
    "y_pred = model.predict(X_test_scaled)\n",
    "\n",
    "# Generate the confusion matrix\n",
    "cm = confusion_matrix(y_test, y_pred)\n",
    "\n",
    "# Plot the confusion matrix\n",
    "plt.figure(figsize=(8, 6))\n",
    "sns.heatmap(cm, annot=True, fmt='d', cmap='Blues', xticklabels=['Good Loan', 'Bad Loan'], yticklabels=['Good Loan', 'Bad Loan'])\n",
    "plt.title('Confusion Matrix')\n",
    "plt.ylabel('Actual')\n",
    "plt.xlabel('Predicted')\n",
    "plt.show()"
   ]
  },
  {
   "cell_type": "code",
   "execution_count": 6,
   "id": "41d814a9-e44f-4c3e-8280-b6ad53689c59",
   "metadata": {},
   "outputs": [
    {
     "name": "stdout",
     "output_type": "stream",
     "text": [
      "              precision    recall  f1-score   support\n",
      "\n",
      "   Good Loan       0.87      1.00      0.93    393645\n",
      "    Bad Loan       0.30      0.00      0.00     58146\n",
      "\n",
      "    accuracy                           0.87    451791\n",
      "   macro avg       0.59      0.50      0.47    451791\n",
      "weighted avg       0.80      0.87      0.81    451791\n",
      "\n"
     ]
    }
   ],
   "source": [
    "# Print the classification report\n",
    "print(classification_report(y_test, y_pred, target_names=['Good Loan', 'Bad Loan']))"
   ]
  },
  {
   "cell_type": "code",
   "execution_count": null,
   "id": "1380f4f0-e108-4874-9598-bf8617724419",
   "metadata": {},
   "outputs": [],
   "source": []
  }
 ],
 "metadata": {
  "kernelspec": {
   "display_name": "Python 3 (ipykernel)",
   "language": "python",
   "name": "python3"
  },
  "language_info": {
   "codemirror_mode": {
    "name": "ipython",
    "version": 3
   },
   "file_extension": ".py",
   "mimetype": "text/x-python",
   "name": "python",
   "nbconvert_exporter": "python",
   "pygments_lexer": "ipython3",
   "version": "3.9.13"
  }
 },
 "nbformat": 4,
 "nbformat_minor": 5
}
