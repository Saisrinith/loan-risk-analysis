{
 "cells": [
  {
   "cell_type": "code",
   "execution_count": null,
   "id": "abeb1bea-6a01-463c-9a22-4ea9e7b134ea",
   "metadata": {},
   "outputs": [],
   "source": [
    "10,91,59,623"
   ]
  },
  {
   "cell_type": "code",
   "execution_count": null,
   "id": "6a1c529f-b4ba-4029-b0d2-b635e74cc62e",
   "metadata": {},
   "outputs": [],
   "source": [
    "import pandas as pd\n",
    "import numpy as np\n",
    "\n",
    "# Load the dataset\n",
    "# The '../' goes up one level from 'notebooks' to the main project folder, then into 'data'\n",
    "# low_memory=False helps prevent a warning about mixed data types in columns.\n",
    "df = pd.read_csv('data/loan.csv', low_memory=False)\n",
    "# Display the first 5 rows to see what the data looks like\n",
    "df.head()"
   ]
  },
  {
   "cell_type": "code",
   "execution_count": null,
   "id": "ca6898db-5aa6-4367-8500-9a345b4461de",
   "metadata": {},
   "outputs": [],
   "source": [
    "# Get a summary of the DataFrame including data types and non-null counts\n",
    "df.info(verbose=True, show_counts=True)"
   ]
  },
  {
   "cell_type": "code",
   "execution_count": null,
   "id": "945905d2-f452-4f28-b1bf-5750be4b5ac7",
   "metadata": {},
   "outputs": [],
   "source": []
  }
 ],
 "metadata": {
  "kernelspec": {
   "display_name": "Python 3 (ipykernel)",
   "language": "python",
   "name": "python3"
  },
  "language_info": {
   "codemirror_mode": {
    "name": "ipython",
    "version": 3
   },
   "file_extension": ".py",
   "mimetype": "text/x-python",
   "name": "python",
   "nbconvert_exporter": "python",
   "pygments_lexer": "ipython3",
   "version": "3.9.13"
  }
 },
 "nbformat": 4,
 "nbformat_minor": 5
}
